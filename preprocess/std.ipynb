{
 "cells": [
  {
   "cell_type": "code",
   "execution_count": 1,
   "metadata": {},
   "outputs": [],
   "source": [
    "import pandas as pd\n",
    "import numpy as np"
   ]
  },
  {
   "cell_type": "code",
   "execution_count": 7,
   "metadata": {},
   "outputs": [],
   "source": [
    "def calc_std(path, num=10, colname=\"lgHL\"):\n",
    "    df = pd.read_csv(path)\n",
    "    for col in df.columns:\n",
    "        if colname in col:\n",
    "            print(f\"col mean: {df[col][:num].mean()}\")\n",
    "            print(f\"col std: {df[col][:num].std()}\")"
   ]
  },
  {
   "cell_type": "code",
   "execution_count": 11,
   "metadata": {},
   "outputs": [
    {
     "name": "stdout",
     "output_type": "stream",
     "text": [
      "col mean: 0.9490661375065723\n",
      "col std: 0.04588412387150177\n",
      "col mean: 0.8144206887406907\n",
      "col std: 0.045033838966019285\n",
      "col mean: 0.8022280901830812\n",
      "col std: 0.024776843604814514\n"
     ]
    }
   ],
   "source": [
    "calc_std(\"/work02/home/wlluo/halflife/log/MGA/TDCpretrainedArnotHL/fix_none_lowlr/result.csv\")"
   ]
  }
 ],
 "metadata": {
  "interpreter": {
   "hash": "29c00070fac077f41f10dac7d9bd370a8355c566ae004d3e4a2376fba4c25276"
  },
  "kernelspec": {
   "display_name": "Python 3.8.11 ('lwl_deepchem')",
   "language": "python",
   "name": "python3"
  },
  "language_info": {
   "codemirror_mode": {
    "name": "ipython",
    "version": 3
   },
   "file_extension": ".py",
   "mimetype": "text/x-python",
   "name": "python",
   "nbconvert_exporter": "python",
   "pygments_lexer": "ipython3",
   "version": "3.8.11"
  },
  "orig_nbformat": 4
 },
 "nbformat": 4,
 "nbformat_minor": 2
}
