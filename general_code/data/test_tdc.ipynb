{
 "cells": [
  {
   "cell_type": "code",
   "execution_count": 1,
   "metadata": {},
   "outputs": [],
   "source": [
    "from tdc.single_pred import ADME"
   ]
  },
  {
   "cell_type": "code",
   "execution_count": 6,
   "metadata": {},
   "outputs": [
    {
     "name": "stderr",
     "output_type": "stream",
     "text": [
      "Downloading...\n",
      "100%|██████████| 82.5k/82.5k [00:00<00:00, 325kiB/s]\n",
      "Loading...\n",
      "Done!\n"
     ]
    }
   ],
   "source": [
    "df = ADME(name=\"Caco2_Wang\").get_data()"
   ]
  },
  {
   "cell_type": "code",
   "execution_count": 7,
   "metadata": {},
   "outputs": [
    {
     "data": {
      "text/html": [
       "<div>\n",
       "<style scoped>\n",
       "    .dataframe tbody tr th:only-of-type {\n",
       "        vertical-align: middle;\n",
       "    }\n",
       "\n",
       "    .dataframe tbody tr th {\n",
       "        vertical-align: top;\n",
       "    }\n",
       "\n",
       "    .dataframe thead th {\n",
       "        text-align: right;\n",
       "    }\n",
       "</style>\n",
       "<table border=\"1\" class=\"dataframe\">\n",
       "  <thead>\n",
       "    <tr style=\"text-align: right;\">\n",
       "      <th></th>\n",
       "      <th>Drug_ID</th>\n",
       "      <th>Drug</th>\n",
       "      <th>Y</th>\n",
       "    </tr>\n",
       "  </thead>\n",
       "  <tbody>\n",
       "    <tr>\n",
       "      <th>0</th>\n",
       "      <td>(-)-epicatechin</td>\n",
       "      <td>Oc1cc(O)c2c(c1)OC(c1ccc(O)c(O)c1)C(O)C2</td>\n",
       "      <td>-6.220000</td>\n",
       "    </tr>\n",
       "    <tr>\n",
       "      <th>1</th>\n",
       "      <td>(2E,4Z,8Z)-N-isobutyldodeca-2,4,10-triene-8 -y...</td>\n",
       "      <td>C/C=C\\C#CCC/C=C\\C=C\\C(=O)NCC(C)C</td>\n",
       "      <td>-3.860000</td>\n",
       "    </tr>\n",
       "    <tr>\n",
       "      <th>2</th>\n",
       "      <td>codeine</td>\n",
       "      <td>COc1ccc2c3c1O[C@H]1[C@@H](O)C=C[C@H]4[C@@H](C2...</td>\n",
       "      <td>-4.090000</td>\n",
       "    </tr>\n",
       "    <tr>\n",
       "      <th>3</th>\n",
       "      <td>creatinine</td>\n",
       "      <td>CN1CC(=O)NC1=N</td>\n",
       "      <td>-5.935409</td>\n",
       "    </tr>\n",
       "    <tr>\n",
       "      <th>4</th>\n",
       "      <td>danazol</td>\n",
       "      <td>C#C[C@]1(O)CC[C@H]2[C@@H]3CCC4=Cc5oncc5C[C@]4(...</td>\n",
       "      <td>-4.840000</td>\n",
       "    </tr>\n",
       "    <tr>\n",
       "      <th>...</th>\n",
       "      <td>...</td>\n",
       "      <td>...</td>\n",
       "      <td>...</td>\n",
       "    </tr>\n",
       "    <tr>\n",
       "      <th>905</th>\n",
       "      <td>Capric acid (decanoic acid)</td>\n",
       "      <td>CCCCCCCCCC(=O)O</td>\n",
       "      <td>-4.680000</td>\n",
       "    </tr>\n",
       "    <tr>\n",
       "      <th>906</th>\n",
       "      <td>Apometzgerin (2)</td>\n",
       "      <td>COc1cc(-c2cc(=O)c3c(O)cc(O)cc3o2)cc(O)c1OC</td>\n",
       "      <td>-4.950000</td>\n",
       "    </tr>\n",
       "    <tr>\n",
       "      <th>907</th>\n",
       "      <td>3</td>\n",
       "      <td>COC(=O)C[C@@H](C(=O)NN(Cc1ccc(/C=C\\c2ccccc2)cc...</td>\n",
       "      <td>-5.080000</td>\n",
       "    </tr>\n",
       "    <tr>\n",
       "      <th>908</th>\n",
       "      <td>51d</td>\n",
       "      <td>COc1ccc2c(O[C@@H]3C[C@H]4C(=O)N[C@]5(C(=O)NS(=...</td>\n",
       "      <td>-5.300000</td>\n",
       "    </tr>\n",
       "    <tr>\n",
       "      <th>909</th>\n",
       "      <td>Cycloheximide</td>\n",
       "      <td>C[C@H]1C[C@H](C)C(=O)[C@H]([C@H](O)CC2CC(=O)NC...</td>\n",
       "      <td>-4.840000</td>\n",
       "    </tr>\n",
       "  </tbody>\n",
       "</table>\n",
       "<p>910 rows × 3 columns</p>\n",
       "</div>"
      ],
      "text/plain": [
       "                                               Drug_ID  \\\n",
       "0                                      (-)-epicatechin   \n",
       "1    (2E,4Z,8Z)-N-isobutyldodeca-2,4,10-triene-8 -y...   \n",
       "2                                              codeine   \n",
       "3                                           creatinine   \n",
       "4                                              danazol   \n",
       "..                                                 ...   \n",
       "905                        Capric acid (decanoic acid)   \n",
       "906                                   Apometzgerin (2)   \n",
       "907                                                  3   \n",
       "908                                                51d   \n",
       "909                                      Cycloheximide   \n",
       "\n",
       "                                                  Drug         Y  \n",
       "0              Oc1cc(O)c2c(c1)OC(c1ccc(O)c(O)c1)C(O)C2 -6.220000  \n",
       "1                     C/C=C\\C#CCC/C=C\\C=C\\C(=O)NCC(C)C -3.860000  \n",
       "2    COc1ccc2c3c1O[C@H]1[C@@H](O)C=C[C@H]4[C@@H](C2... -4.090000  \n",
       "3                                       CN1CC(=O)NC1=N -5.935409  \n",
       "4    C#C[C@]1(O)CC[C@H]2[C@@H]3CCC4=Cc5oncc5C[C@]4(... -4.840000  \n",
       "..                                                 ...       ...  \n",
       "905                                    CCCCCCCCCC(=O)O -4.680000  \n",
       "906         COc1cc(-c2cc(=O)c3c(O)cc(O)cc3o2)cc(O)c1OC -4.950000  \n",
       "907  COC(=O)C[C@@H](C(=O)NN(Cc1ccc(/C=C\\c2ccccc2)cc... -5.080000  \n",
       "908  COc1ccc2c(O[C@@H]3C[C@H]4C(=O)N[C@]5(C(=O)NS(=... -5.300000  \n",
       "909  C[C@H]1C[C@H](C)C(=O)[C@H]([C@H](O)CC2CC(=O)NC... -4.840000  \n",
       "\n",
       "[910 rows x 3 columns]"
      ]
     },
     "execution_count": 7,
     "metadata": {},
     "output_type": "execute_result"
    }
   ],
   "source": [
    "df"
   ]
  }
 ],
 "metadata": {
  "interpreter": {
   "hash": "29c00070fac077f41f10dac7d9bd370a8355c566ae004d3e4a2376fba4c25276"
  },
  "kernelspec": {
   "display_name": "Python 3.8.11 ('lwl_deepchem')",
   "language": "python",
   "name": "python3"
  },
  "language_info": {
   "codemirror_mode": {
    "name": "ipython",
    "version": 3
   },
   "file_extension": ".py",
   "mimetype": "text/x-python",
   "name": "python",
   "nbconvert_exporter": "python",
   "pygments_lexer": "ipython3",
   "version": "3.8.11"
  },
  "orig_nbformat": 4
 },
 "nbformat": 4,
 "nbformat_minor": 2
}
